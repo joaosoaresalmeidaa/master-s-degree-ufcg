{
  "cells": [
    {
      "cell_type": "code",
      "execution_count": null,
      "metadata": {
        "colab": {
          "base_uri": "https://localhost:8080/"
        },
        "id": "LyFrWeXzZGgm",
        "outputId": "4a596d49-09b1-406e-bb2f-169fcd4787a4"
      },
      "outputs": [
        {
          "name": "stdout",
          "output_type": "stream",
          "text": [
            "\u001b[31mERROR: Could not find a version that satisfies the requirement tensorflow==2.5.0 (from versions: 2.8.0rc0, 2.8.0rc1, 2.8.0, 2.8.1, 2.8.2, 2.8.3, 2.8.4, 2.9.0rc0, 2.9.0rc1, 2.9.0rc2, 2.9.0, 2.9.1, 2.9.2, 2.9.3, 2.10.0rc0, 2.10.0rc1, 2.10.0rc2, 2.10.0rc3, 2.10.0, 2.10.1, 2.11.0rc0, 2.11.0rc1, 2.11.0rc2, 2.11.0, 2.11.1, 2.12.0rc0, 2.12.0rc1, 2.12.0, 2.12.1, 2.13.0rc0, 2.13.0rc1, 2.13.0rc2, 2.13.0, 2.13.1, 2.14.0rc0, 2.14.0rc1, 2.14.0, 2.14.1, 2.15.0rc0, 2.15.0rc1, 2.15.0, 2.15.0.post1, 2.15.1, 2.16.0rc0, 2.16.1)\u001b[0m\u001b[31m\n",
            "\u001b[0m\u001b[31mERROR: No matching distribution found for tensorflow==2.5.0\u001b[0m\u001b[31m\n",
            "\u001b[0mCollecting guesslang\n",
            "  Using cached guesslang-2.2.1-py3-none-any.whl (2.5 MB)\n",
            "INFO: pip is looking at multiple versions of guesslang to determine which version is compatible with other requirements. This could take a while.\n",
            "  Using cached guesslang-2.2.0-py3-none-any.whl (2.5 MB)\n",
            "  Using cached guesslang-2.0.3-py3-none-any.whl (2.1 MB)\n",
            "  Using cached guesslang-2.0.1-py3-none-any.whl (2.1 MB)\n",
            "  Using cached guesslang-2.0.0-py3-none-any.whl (13.0 MB)\n",
            "  Using cached guesslang-0.9.3-py3-none-any.whl (3.2 MB)\n",
            "  Using cached guesslang-0.9.1-py3-none-any.whl (3.2 MB)\n",
            "\u001b[31mERROR: Cannot install guesslang==0.9.1, guesslang==0.9.3, guesslang==2.0.0, guesslang==2.0.1, guesslang==2.0.3, guesslang==2.2.0 and guesslang==2.2.1 because these package versions have conflicting dependencies.\u001b[0m\u001b[31m\n",
            "\u001b[0m\n",
            "The conflict is caused by:\n",
            "    guesslang 2.2.1 depends on tensorflow==2.5.0\n",
            "    guesslang 2.2.0 depends on tensorflow==2.5.0\n",
            "    guesslang 2.0.3 depends on tensorflow==2.5.0\n",
            "    guesslang 2.0.1 depends on tensorflow==2.2.0\n",
            "    guesslang 2.0.0 depends on tensorflow==2.2.0\n",
            "    guesslang 0.9.3 depends on tensorflow==1.7.0rc1\n",
            "    guesslang 0.9.1 depends on tensorflow==1.1.0\n",
            "\n",
            "To fix this you could try to:\n",
            "1. loosen the range of package versions you've specified\n",
            "2. remove package versions to allow pip attempt to solve the dependency conflict\n",
            "\n",
            "\u001b[31mERROR: ResolutionImpossible: for help visit https://pip.pypa.io/en/latest/topics/dependency-resolution/#dealing-with-dependency-conflicts\u001b[0m\u001b[31m\n",
            "\u001b[0m"
          ]
        }
      ],
      "source": [
        "\"\"\"\n",
        "Script responsável por realizar limpeza nos diff_hunks, deixando apenas o trecho modificado.\n",
        "\"\"\""
      ]
    },
    {
      "cell_type": "code",
      "execution_count": null,
      "metadata": {
        "id": "nY4bsGHRZVBP"
      },
      "outputs": [],
      "source": [
        "from google.colab import drive\n",
        "drive.mount('/content/drive')\n",
        "dataset = pd.read_csv('<PATH_DATASET>')\n",
        "dataset.head()"
      ]
    },
    {
      "cell_type": "code",
      "execution_count": null,
      "metadata": {
        "id": "nEtcFPgPpBcG"
      },
      "outputs": [],
      "source": [
        "import requests\n",
        "import pandas as pd\n",
        "import re\n",
        "from time import sleep"
      ]
    },
    {
      "cell_type": "code",
      "execution_count": null,
      "metadata": {
        "id": "n9N25iuYW2P1"
      },
      "outputs": [],
      "source": [
        "df = pd.read_csv('<PATH_DATASET>')"
      ]
    },
    {
      "cell_type": "code",
      "execution_count": null,
      "metadata": {
        "id": "oOLJbM6L5TJ0"
      },
      "outputs": [],
      "source": [
        "def build_comment_url(func):\n",
        "  def wrapper(row):\n",
        "    pr_url = row['pull_request_url']\n",
        "    comment_id = row['comment_id']\n",
        "    pattern = r'[\\w+:./-]*\\/'\n",
        "\n",
        "    base_url = re.findall(pattern, pr_url)[0]\n",
        "\n",
        "    return func(f'{base_url}comments/{comment_id}')\n",
        "\n",
        "  return wrapper"
      ]
    },
    {
      "cell_type": "code",
      "execution_count": null,
      "metadata": {
        "id": "bW-PcqU6y1Mv"
      },
      "outputs": [],
      "source": [
        "def get_diff_hunk(func):\n",
        "  def wrapper(comment_url):\n",
        "    token = '<TOKEN>'\n",
        "    headers = {\n",
        "      'Authorization': 'token ' + token,\n",
        "    }\n",
        "\n",
        "    r = requests.get(comment_url, headers=headers)\n",
        "    if r.status_code == 200:\n",
        "      return func(r.json().get('diff_hunk'))\n",
        "    else:\n",
        "      print(f'{comment_url} - {r.status_code}')\n",
        "      return func({'status_code': r.status_code, 'url': comment_url})\n",
        "\n",
        "  return wrapper"
      ]
    },
    {
      "cell_type": "code",
      "execution_count": null,
      "metadata": {
        "id": "v8kQugo_z1kN"
      },
      "outputs": [],
      "source": [
        "def remove_line_range(func):\n",
        "  def wrapper(diff_hunk):\n",
        "    pattern = r'@@.*?@@'\n",
        "    return func(re.sub(pattern, '', diff_hunk) + '\\n')\n",
        "\n",
        "  return wrapper"
      ]
    },
    {
      "cell_type": "code",
      "execution_count": null,
      "metadata": {
        "id": "LMOxm9mi0E6G"
      },
      "outputs": [],
      "source": [
        "def filter_only_added_lines(func):\n",
        "  def wrapper(diff_hunk):\n",
        "    pattern = r'\\+(.*?)\\n'\n",
        "    lines = re.findall(pattern, diff_hunk, re.MULTILINE)\n",
        "\n",
        "    return func('\\n'.join(lines))\n",
        "\n",
        "  return wrapper"
      ]
    },
    {
      "cell_type": "code",
      "execution_count": null,
      "metadata": {
        "id": "RxnLWT4VbB9Z"
      },
      "outputs": [],
      "source": [
        "@build_comment_url\n",
        "@get_diff_hunk\n",
        "@remove_line_range\n",
        "@filter_only_added_lines\n",
        "def clean_comments(diff_hunk):\n",
        "  if isinstance(diff_hunk, str):\n",
        "    pattern = r'(\\\"\"\".*?\\\"\"\"|\\'\\'\\'.*?\\'\\'\\'|\"\"\"[\\s\\S]*?\"\"\"|\\'\\'\\'[\\s\\S]*?\\'\\'\\'|/\\*[\\s\\S]*?\\*/|//.*?$)'\n",
        "    return re.sub(pattern, '', diff_hunk)\n",
        "  else:\n",
        "    return diff_hunk"
      ]
    },
    {
      "cell_type": "code",
      "execution_count": null,
      "metadata": {
        "id": "8EqodzibZAfn"
      },
      "outputs": [],
      "source": [
        "from guesslang import Guess\n",
        "\n",
        "\n",
        "guess = Guess()\n",
        "\n",
        "name = guess.language_name(\"\"\"\n",
        "    % Quick sort\n",
        "\n",
        "    -module (recursion).\n",
        "    -export ([qsort/1]).\n",
        "\n",
        "    qsort([]) -> [];\n",
        "    qsort([Pivot|T]) ->\n",
        "          qsort([X || X <- T, X < Pivot])\n",
        "          ++ [Pivot] ++\n",
        "          qsort([X || X <- T, X >= Pivot]).\n",
        "\"\"\")\n",
        "\n",
        "print(name)  # ⟶ Erlang"
      ]
    },
    {
      "cell_type": "code",
      "execution_count": null,
      "metadata": {
        "id": "aUtlb9MIzgB6"
      },
      "outputs": [],
      "source": [
        "df['cleaned_diff_hunk'] = df.apply(clean_comments, axis=1)\n",
        "df.to_csv('<PATH_DATASET_CLEANED>', index=False)"
      ]
    },
    {
      "cell_type": "code",
      "execution_count": null,
      "metadata": {
        "id": "thoJDFG4obnI"
      },
      "outputs": [],
      "source": [
        "@build_comment_url\n",
        "def get_diff_hunk(func):\n",
        "  token = '<TOKEN>'\n",
        "  headers = {\n",
        "    'Authorization': 'token ' + token,\n",
        "  }\n",
        "\n",
        "  r = requests.get(comment_url, headers=headers)\n",
        "  if r.status_code == 200:\n",
        "    return func(r.json().get('diff_hunk'))\n",
        "  else:\n",
        "    print(f'{comment_url} - {r.status_code}')\n",
        "    return func({'status_code': r.status_code, 'url': comment_url})\n",
        "\n",
        "df['formatted_diff_hunk'] = df.apply(get_diff_hunk, axis=1)"
      ]
    }
  ],
  "metadata": {
    "colab": {
      "provenance": []
    },
    "kernelspec": {
      "display_name": "Python 3",
      "name": "python3"
    },
    "language_info": {
      "name": "python"
    }
  },
  "nbformat": 4,
  "nbformat_minor": 0
}
